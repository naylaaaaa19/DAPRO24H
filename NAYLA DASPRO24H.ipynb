{
 "cells": [
  {
   "cell_type": "markdown",
   "id": "df03ebfe",
   "metadata": {},
   "source": [
    "<img src=\"https://logos-world.net/wp-content/uploads/2021/10/Python-Logo.png\" width=\"300\" ></center><br>\n",
    "Pada jupyter notebooks jenis <b>cell</b> terbagi menjadi\n",
    "<ol>\n",
    "    <Li>M (Mark Down) -> M</Li>\n",
    "    <Li>Y (Code) -> Y</Li>\n",
    "</ol>\n",
    "<hr>"
   ]
  },
  {
   "cell_type": "markdown",
   "id": "2b495add",
   "metadata": {},
   "source": [
    "Cara menambahkan <b>cell</b> terbagi menjadi 2:\n",
    "<ul>\n",
    "    <li>A -(Above) Menambah diatas cell aktif</li>\n",
    "    <li>B -(Below) Menambah dibawah cell aktif</li>\n",
    "</ul>\n",
    "\n",
    "<table>\n",
    "    <tr>\n",
    "        <td>PERINTAH<td>\n",
    "        <td>KETERANGAN<td>\n",
    "    </tr>\n",
    "    <tr>\n",
    "        <td>ctrl + enter</td>\n",
    "        <td>Running program dengan fokus di cell aktif</td>\n",
    "    </tr>\n",
    "    <tr>\n",
    "        <td>shift + enter</td>\n",
    "        <td>Running program dengan fokus di cell berikutnya</td>\n",
    "    </tr>\n",
    "    \n",
    "</table>"
   ]
  },
  {
   "cell_type": "code",
   "execution_count": null,
   "id": "9784fd1d",
   "metadata": {},
   "outputs": [],
   "source": [
    "#this is comment\n",
    "print(\"python is very easy\")\n",
    "data = \"4\"\n",
    "print(data)\n",
    "data\n",
    "3+3"
   ]
  }
 ],
 "metadata": {
  "kernelspec": {
   "display_name": "Python 3 (ipykernel)",
   "language": "python",
   "name": "python3"
  },
  "language_info": {
   "codemirror_mode": {
    "name": "ipython",
    "version": 3
   },
   "file_extension": ".py",
   "mimetype": "text/x-python",
   "name": "python",
   "nbconvert_exporter": "python",
   "pygments_lexer": "ipython3",
   "version": "3.9.12"
  }
 },
 "nbformat": 4,
 "nbformat_minor": 5
}
